{
 "cells": [
  {
   "cell_type": "code",
   "execution_count": 2,
   "id": "b2c59d33-1d51-4603-987b-f41cebfd65ae",
   "metadata": {},
   "outputs": [],
   "source": [
    "import matplotlib.pyplot as plt\n",
    "import numpy as np\n",
    "import pandas as pd"
   ]
  },
  {
   "cell_type": "code",
   "execution_count": 24,
   "id": "ee121286-64ad-481c-bc01-778f75c33467",
   "metadata": {},
   "outputs": [
    {
     "data": {
      "text/html": [
       "<div>\n",
       "<style scoped>\n",
       "    .dataframe tbody tr th:only-of-type {\n",
       "        vertical-align: middle;\n",
       "    }\n",
       "\n",
       "    .dataframe tbody tr th {\n",
       "        vertical-align: top;\n",
       "    }\n",
       "\n",
       "    .dataframe thead th {\n",
       "        text-align: right;\n",
       "    }\n",
       "</style>\n",
       "<table border=\"1\" class=\"dataframe\">\n",
       "  <thead>\n",
       "    <tr style=\"text-align: right;\">\n",
       "      <th></th>\n",
       "      <th>area</th>\n",
       "      <th>bedrooms</th>\n",
       "      <th>age</th>\n",
       "      <th>price</th>\n",
       "    </tr>\n",
       "  </thead>\n",
       "  <tbody>\n",
       "    <tr>\n",
       "      <th>0</th>\n",
       "      <td>2600</td>\n",
       "      <td>3</td>\n",
       "      <td>20</td>\n",
       "      <td>550000</td>\n",
       "    </tr>\n",
       "    <tr>\n",
       "      <th>1</th>\n",
       "      <td>3000</td>\n",
       "      <td>4</td>\n",
       "      <td>15</td>\n",
       "      <td>565000</td>\n",
       "    </tr>\n",
       "    <tr>\n",
       "      <th>2</th>\n",
       "      <td>3200</td>\n",
       "      <td>3</td>\n",
       "      <td>18</td>\n",
       "      <td>610000</td>\n",
       "    </tr>\n",
       "    <tr>\n",
       "      <th>3</th>\n",
       "      <td>3600</td>\n",
       "      <td>3</td>\n",
       "      <td>30</td>\n",
       "      <td>595000</td>\n",
       "    </tr>\n",
       "    <tr>\n",
       "      <th>4</th>\n",
       "      <td>4000</td>\n",
       "      <td>5</td>\n",
       "      <td>8</td>\n",
       "      <td>760000</td>\n",
       "    </tr>\n",
       "    <tr>\n",
       "      <th>5</th>\n",
       "      <td>4100</td>\n",
       "      <td>6</td>\n",
       "      <td>8</td>\n",
       "      <td>810000</td>\n",
       "    </tr>\n",
       "  </tbody>\n",
       "</table>\n",
       "</div>"
      ],
      "text/plain": [
       "   area  bedrooms  age   price\n",
       "0  2600         3   20  550000\n",
       "1  3000         4   15  565000\n",
       "2  3200         3   18  610000\n",
       "3  3600         3   30  595000\n",
       "4  4000         5    8  760000\n",
       "5  4100         6    8  810000"
      ]
     },
     "execution_count": 24,
     "metadata": {},
     "output_type": "execute_result"
    }
   ],
   "source": [
    "df = pd.read_csv(\"homeprices.csv\")\n",
    "df.head()"
   ]
  },
  {
   "cell_type": "code",
   "execution_count": 28,
   "id": "6168a666-1a23-46c9-bac0-a5f96c2fdab2",
   "metadata": {},
   "outputs": [
    {
     "data": {
      "text/plain": [
       "(6, 4)"
      ]
     },
     "execution_count": 28,
     "metadata": {},
     "output_type": "execute_result"
    }
   ],
   "source": [
    "X = df.drop('price', axis=1)\n",
    "Y = df.price\n",
    "df.shape"
   ]
  },
  {
   "cell_type": "code",
   "execution_count": 32,
   "id": "d2514932-3164-47bc-8af4-b33ad22d92e0",
   "metadata": {},
   "outputs": [],
   "source": [
    "from sklearn import preprocessing\n",
    "sx = preprocessing.MinMaxScaler()\n",
    "sy = preprocessing.MinMaxScaler()\n",
    "\n",
    "scaled_x = sx.fit_transform(df.drop('price', axis=1))\n",
    "scaled_y = sy.fit_transform(df.price.values.reshape(df.shape[0],1))"
   ]
  },
  {
   "cell_type": "code",
   "execution_count": 36,
   "id": "7c7216f6-6bef-4dce-a595-71c3a89b3529",
   "metadata": {},
   "outputs": [],
   "source": [
    "import random"
   ]
  },
  {
   "cell_type": "code",
   "execution_count": 48,
   "id": "2eb80a55-3213-4d6c-9b18-9a4ce655c510",
   "metadata": {},
   "outputs": [],
   "source": [
    "def mini_batch_gradient_descent(X, y, epochs, learning_rate=0.01):\n",
    "    features = X.shape[1]\n",
    "    w = np.ones(shape=(features))\n",
    "    b = 0\n",
    "    m, n = X.shape\n",
    "    cost_list = []\n",
    "    epoch_list = []\n",
    "\n",
    "    \n",
    "    for epoc in range(epochs):\n",
    "        # Shuffle the data at the beginning of each epoch\n",
    "        permutation = np.random.permutation(m)\n",
    "        X_shuffled = X[permutation]\n",
    "        y_shuffled = y[permutation]\n",
    "        \n",
    "        for i in range(0, m, batch_size):\n",
    "            y_batch = X_shuffled[i:i +batch_size]\n",
    "            x_batch = y_shuffled[i:i +batch_size]\n",
    "            y_predicted = np.dot(x_batch, w) + b\n",
    "            \n",
    "            w_grad = w - (2 / batch_size) * np.dot(x_batch.T, (y_batch - y_predicted))\n",
    "            b_grad = b - (2 / batch_size) * np.sum(y_batch - y_predicted)\n",
    "            \n",
    "            w = w - learning_rate * w_grad\n",
    "            b = b - learning_rate * b_grad\n",
    "        y_pred_epoch = np.dot(X, W) + b\n",
    "        cost = np.mean(np.square(y - y_pred_epoch))\n",
    "        \n",
    "        if  epoc % 100 == 0:\n",
    "            cost_list.append(cost)\n",
    "            epoch_list.append(epoc)\n",
    "    return w, b, cost, cost_list, epoch_list        "
   ]
  },
  {
   "cell_type": "code",
   "execution_count": 50,
   "id": "53ea2f1c-99c9-47e4-9dc9-594bf17d561a",
   "metadata": {},
   "outputs": [
    {
     "ename": "NameError",
     "evalue": "name 'batch_size' is not defined",
     "output_type": "error",
     "traceback": [
      "\u001b[1;31m---------------------------------------------------------------------------\u001b[0m",
      "\u001b[1;31mNameError\u001b[0m                                 Traceback (most recent call last)",
      "Cell \u001b[1;32mIn[50], line 1\u001b[0m\n\u001b[1;32m----> 1\u001b[0m w, b, cost, cost_list, epoch_list \u001b[38;5;241m=\u001b[39m mini_batch_gradient_descent(scaled_x, scaled_y\u001b[38;5;241m.\u001b[39mreshape(scaled_y\u001b[38;5;241m.\u001b[39mshape[\u001b[38;5;241m0\u001b[39m],), \u001b[38;5;241m10000\u001b[39m)\n",
      "Cell \u001b[1;32mIn[48], line 16\u001b[0m, in \u001b[0;36mmini_batch_gradient_descent\u001b[1;34m(X, y, epochs, learning_rate)\u001b[0m\n\u001b[0;32m     13\u001b[0m X_shuffled \u001b[38;5;241m=\u001b[39m X[permutation]\n\u001b[0;32m     14\u001b[0m y_shuffled \u001b[38;5;241m=\u001b[39m y[permutation]\n\u001b[1;32m---> 16\u001b[0m \u001b[38;5;28;01mfor\u001b[39;00m i \u001b[38;5;129;01min\u001b[39;00m \u001b[38;5;28mrange\u001b[39m(\u001b[38;5;241m0\u001b[39m, m, batch_size):\n\u001b[0;32m     17\u001b[0m     y_batch \u001b[38;5;241m=\u001b[39m X_shuffled[i:i \u001b[38;5;241m+\u001b[39mbatch_size]\n\u001b[0;32m     18\u001b[0m     x_batch \u001b[38;5;241m=\u001b[39m y_shuffled[i:i \u001b[38;5;241m+\u001b[39mbatch_size]\n",
      "\u001b[1;31mNameError\u001b[0m: name 'batch_size' is not defined"
     ]
    }
   ],
   "source": [
    "w, b, cost, cost_list, epoch_list = mini_batch_gradient_descent(scaled_x, scaled_y.reshape(scaled_y.shape[0],), 10000)"
   ]
  }
 ],
 "metadata": {
  "kernelspec": {
   "display_name": "Python 3 (ipykernel)",
   "language": "python",
   "name": "python3"
  },
  "language_info": {
   "codemirror_mode": {
    "name": "ipython",
    "version": 3
   },
   "file_extension": ".py",
   "mimetype": "text/x-python",
   "name": "python",
   "nbconvert_exporter": "python",
   "pygments_lexer": "ipython3",
   "version": "3.12.4"
  }
 },
 "nbformat": 4,
 "nbformat_minor": 5
}
