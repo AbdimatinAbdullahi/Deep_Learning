{
 "cells": [
  {
   "cell_type": "code",
   "execution_count": 1,
   "id": "b2c59d33-1d51-4603-987b-f41cebfd65ae",
   "metadata": {},
   "outputs": [],
   "source": [
    "import matplotlib.pyplot as plt\n",
    "import numpy as np\n",
    "import pandas as pd"
   ]
  },
  {
   "cell_type": "code",
   "execution_count": 12,
   "id": "ee121286-64ad-481c-bc01-778f75c33467",
   "metadata": {},
   "outputs": [
    {
     "data": {
      "text/html": [
       "<div>\n",
       "<style scoped>\n",
       "    .dataframe tbody tr th:only-of-type {\n",
       "        vertical-align: middle;\n",
       "    }\n",
       "\n",
       "    .dataframe tbody tr th {\n",
       "        vertical-align: top;\n",
       "    }\n",
       "\n",
       "    .dataframe thead th {\n",
       "        text-align: right;\n",
       "    }\n",
       "</style>\n",
       "<table border=\"1\" class=\"dataframe\">\n",
       "  <thead>\n",
       "    <tr style=\"text-align: right;\">\n",
       "      <th></th>\n",
       "      <th>area</th>\n",
       "      <th>bedrooms</th>\n",
       "      <th>price</th>\n",
       "    </tr>\n",
       "  </thead>\n",
       "  <tbody>\n",
       "    <tr>\n",
       "      <th>0</th>\n",
       "      <td>1056</td>\n",
       "      <td>2</td>\n",
       "      <td>39.07</td>\n",
       "    </tr>\n",
       "    <tr>\n",
       "      <th>1</th>\n",
       "      <td>2600</td>\n",
       "      <td>4</td>\n",
       "      <td>120.00</td>\n",
       "    </tr>\n",
       "    <tr>\n",
       "      <th>2</th>\n",
       "      <td>1440</td>\n",
       "      <td>3</td>\n",
       "      <td>62.00</td>\n",
       "    </tr>\n",
       "    <tr>\n",
       "      <th>3</th>\n",
       "      <td>1521</td>\n",
       "      <td>3</td>\n",
       "      <td>75.00</td>\n",
       "    </tr>\n",
       "    <tr>\n",
       "      <th>4</th>\n",
       "      <td>1200</td>\n",
       "      <td>2</td>\n",
       "      <td>51.00</td>\n",
       "    </tr>\n",
       "  </tbody>\n",
       "</table>\n",
       "</div>"
      ],
      "text/plain": [
       "   area  bedrooms   price\n",
       "0  1056         2   39.07\n",
       "1  2600         4  120.00\n",
       "2  1440         3   62.00\n",
       "3  1521         3   75.00\n",
       "4  1200         2   51.00"
      ]
     },
     "execution_count": 12,
     "metadata": {},
     "output_type": "execute_result"
    }
   ],
   "source": [
    "df = pd.read_csv(\"homeprices_banglore.csv\")\n",
    "df.head()"
   ]
  },
  {
   "cell_type": "code",
   "execution_count": 14,
   "id": "6168a666-1a23-46c9-bac0-a5f96c2fdab2",
   "metadata": {},
   "outputs": [
    {
     "data": {
      "text/plain": [
       "(20, 3)"
      ]
     },
     "execution_count": 14,
     "metadata": {},
     "output_type": "execute_result"
    }
   ],
   "source": [
    "X = df.drop('price', axis=1)\n",
    "Y = df.price\n",
    "df.shape"
   ]
  },
  {
   "cell_type": "code",
   "execution_count": 16,
   "id": "d2514932-3164-47bc-8af4-b33ad22d92e0",
   "metadata": {},
   "outputs": [],
   "source": [
    "from sklearn import preprocessing\n",
    "sx = preprocessing.MinMaxScaler()\n",
    "sy = preprocessing.MinMaxScaler()\n",
    "\n",
    "scaled_x = sx.fit_transform(df.drop('price', axis=1))\n",
    "scaled_y = sy.fit_transform(df.price.values.reshape(df.shape[0],1))"
   ]
  },
  {
   "cell_type": "code",
   "execution_count": 18,
   "id": "7c7216f6-6bef-4dce-a595-71c3a89b3529",
   "metadata": {},
   "outputs": [],
   "source": [
    "import random"
   ]
  },
  {
   "cell_type": "code",
   "execution_count": 24,
   "id": "2eb80a55-3213-4d6c-9b18-9a4ce655c510",
   "metadata": {},
   "outputs": [],
   "source": [
    "def mini_batch_gradient_descent(X, y, epochs, batch_size, learning_rate=0.01):\n",
    "    features = X.shape[1]\n",
    "    w = np.ones(shape=(features))\n",
    "    b = 0\n",
    "    m, n = X.shape\n",
    "    cost_list = []\n",
    "    epoch_list = []\n",
    "\n",
    "    \n",
    "    for epoc in range(epochs):\n",
    "        # Shuffle the data at the beginning of each epoch\n",
    "        permutation = np.random.permutation(m)\n",
    "        X_shuffled = X[permutation]\n",
    "        y_shuffled = y[permutation]\n",
    "        \n",
    "        for i in range(0, m, batch_size):\n",
    "            y_batch = X_shuffled[i:i +batch_size]\n",
    "            x_batch = y_shuffled[i:i +batch_size]\n",
    "            y_predicted = np.dot(w, x_batch.T) + b\n",
    "            \n",
    "            w_grad = w - (2 / batch_size) * np.dot(x_batch.T, (y_batch - y_predicted))\n",
    "            b_grad = b - (2 / batch_size) * np.sum(y_batch - y_predicted)\n",
    "            \n",
    "            w = w - learning_rate * w_grad\n",
    "            b = b - learning_rate * b_grad\n",
    "        y_pred_epoch = np.dot(X, w) + b\n",
    "        cost = np.mean(np.square(y - y_pred_epoch))\n",
    "        \n",
    "        if  epoc % 100 == 0:\n",
    "            cost_list.append(cost)\n",
    "            epoch_list.append(epoc)\n",
    "    return w, b, cost, cost_list, epoch_list        "
   ]
  },
  {
   "cell_type": "code",
   "execution_count": 26,
   "id": "53ea2f1c-99c9-47e4-9dc9-594bf17d561a",
   "metadata": {},
   "outputs": [
    {
     "ename": "ValueError",
     "evalue": "shapes (2,) and (3,) not aligned: 2 (dim 0) != 3 (dim 0)",
     "output_type": "error",
     "traceback": [
      "\u001b[1;31m---------------------------------------------------------------------------\u001b[0m",
      "\u001b[1;31mValueError\u001b[0m                                Traceback (most recent call last)",
      "Cell \u001b[1;32mIn[26], line 1\u001b[0m\n\u001b[1;32m----> 1\u001b[0m w, b, cost, cost_list, epoch_list \u001b[38;5;241m=\u001b[39m mini_batch_gradient_descent(scaled_x, scaled_y\u001b[38;5;241m.\u001b[39mreshape(scaled_y\u001b[38;5;241m.\u001b[39mshape[\u001b[38;5;241m0\u001b[39m],), \u001b[38;5;241m10000\u001b[39m, \u001b[38;5;241m3\u001b[39m)\n",
      "Cell \u001b[1;32mIn[24], line 19\u001b[0m, in \u001b[0;36mmini_batch_gradient_descent\u001b[1;34m(X, y, epochs, batch_size, learning_rate)\u001b[0m\n\u001b[0;32m     17\u001b[0m y_batch \u001b[38;5;241m=\u001b[39m X_shuffled[i:i \u001b[38;5;241m+\u001b[39mbatch_size]\n\u001b[0;32m     18\u001b[0m x_batch \u001b[38;5;241m=\u001b[39m y_shuffled[i:i \u001b[38;5;241m+\u001b[39mbatch_size]\n\u001b[1;32m---> 19\u001b[0m y_predicted \u001b[38;5;241m=\u001b[39m np\u001b[38;5;241m.\u001b[39mdot(w, x_batch\u001b[38;5;241m.\u001b[39mT) \u001b[38;5;241m+\u001b[39m b\n\u001b[0;32m     21\u001b[0m w_grad \u001b[38;5;241m=\u001b[39m w \u001b[38;5;241m-\u001b[39m (\u001b[38;5;241m2\u001b[39m \u001b[38;5;241m/\u001b[39m batch_size) \u001b[38;5;241m*\u001b[39m np\u001b[38;5;241m.\u001b[39mdot(x_batch\u001b[38;5;241m.\u001b[39mT, (y_batch \u001b[38;5;241m-\u001b[39m y_predicted))\n\u001b[0;32m     22\u001b[0m b_grad \u001b[38;5;241m=\u001b[39m b \u001b[38;5;241m-\u001b[39m (\u001b[38;5;241m2\u001b[39m \u001b[38;5;241m/\u001b[39m batch_size) \u001b[38;5;241m*\u001b[39m np\u001b[38;5;241m.\u001b[39msum(y_batch \u001b[38;5;241m-\u001b[39m y_predicted)\n",
      "\u001b[1;31mValueError\u001b[0m: shapes (2,) and (3,) not aligned: 2 (dim 0) != 3 (dim 0)"
     ]
    }
   ],
   "source": [
    "w, b, cost, cost_list, epoch_list = mini_batch_gradient_descent(scaled_x, scaled_y.reshape(scaled_y.shape[0],), 10000, 3)"
   ]
  },
  {
   "cell_type": "code",
   "execution_count": 8,
   "id": "8faf45d4-cc48-4036-bd97-955ed3491b5a",
   "metadata": {},
   "outputs": [
    {
     "data": {
      "text/plain": [
       "(array([ 0.35716172,  0.21740915, -0.20329688]), 0.26922880546248795)"
      ]
     },
     "execution_count": 8,
     "metadata": {},
     "output_type": "execute_result"
    }
   ],
   "source": [
    "w, b"
   ]
  },
  {
   "cell_type": "code",
   "execution_count": 9,
   "id": "2469a800-097a-486e-b164-c6d9324a3656",
   "metadata": {},
   "outputs": [],
   "source": [
    "from tensorflow import keras"
   ]
  },
  {
   "cell_type": "code",
   "execution_count": 10,
   "id": "4b572170-a9c0-457c-a3df-a5117f7ff913",
   "metadata": {},
   "outputs": [
    {
     "ename": "SyntaxError",
     "evalue": "positional argument follows keyword argument (3446231665.py, line 4)",
     "output_type": "error",
     "traceback": [
      "\u001b[1;36m  Cell \u001b[1;32mIn[10], line 4\u001b[1;36m\u001b[0m\n\u001b[1;33m    model.compile(optimizer='adam', loss='mean_squared_error', metrics['accuracy'])\u001b[0m\n\u001b[1;37m                                                                                  ^\u001b[0m\n\u001b[1;31mSyntaxError\u001b[0m\u001b[1;31m:\u001b[0m positional argument follows keyword argument\n"
     ]
    }
   ],
   "source": [
    "model = keras.Sequential([\n",
    "    keras.layers.Dense(1, input_shape=(3, ), activation='relu')\n",
    "])\n",
    "model.compile(optimizer='adam', loss='mean_squared_error', metrics['accuracy'])"
   ]
  },
  {
   "cell_type": "code",
   "execution_count": null,
   "id": "d343ecba-92d5-46d0-b582-ddb2045d24ba",
   "metadata": {},
   "outputs": [],
   "source": [
    "model.summary()"
   ]
  },
  {
   "cell_type": "code",
   "execution_count": null,
   "id": "94792fad-796b-49db-820c-fe8817df7df9",
   "metadata": {},
   "outputs": [],
   "source": [
    "from sklearn.model_selection import train_test_split\n",
    "X_train, X_test, y_train, y_test = train_test_split(df.drop(['price'], axis=1), df.price, test_size=0.1)"
   ]
  },
  {
   "cell_type": "code",
   "execution_count": null,
   "id": "05f0f925-977e-42a4-ae6e-b8a77761c26b",
   "metadata": {},
   "outputs": [],
   "source": [
    "model.fit(X_train, y_train, epochs=100)"
   ]
  }
 ],
 "metadata": {
  "kernelspec": {
   "display_name": "Python 3 (ipykernel)",
   "language": "python",
   "name": "python3"
  },
  "language_info": {
   "codemirror_mode": {
    "name": "ipython",
    "version": 3
   },
   "file_extension": ".py",
   "mimetype": "text/x-python",
   "name": "python",
   "nbconvert_exporter": "python",
   "pygments_lexer": "ipython3",
   "version": "3.12.4"
  }
 },
 "nbformat": 4,
 "nbformat_minor": 5
}
